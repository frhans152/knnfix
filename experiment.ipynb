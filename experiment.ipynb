{
 "cells": [
  {
   "cell_type": "code",
   "execution_count": 2,
   "metadata": {},
   "outputs": [],
   "source": [
    "import pandas as pd\n",
    "import numpy as np\n",
    "df = pd.read_csv('Test.csv')\n",
    "lable = ['1. Menjadi marah karena hal-hal kecil/sepele ' , \n",
    "      '6. Cenderung bereaksi berlebihan pada situasi ' ,\n",
    "      '8. Kesulitan untuk relaksasi/bersantai ' , \n",
    "      '11. Mudah merasa kesal ' , \n",
    "      '12. Merasa banyak menghabiskan energi karena cemas ',\n",
    "      '14. Tidak sabaran ' , \n",
    "      '18. Ketakutan tanpa alasan yang jelas ',\n",
    "      '22. Tidak dapat menikmati hal-hal yang saya lakukan ' ,\n",
    "      '27. Kesulitan untuk tenang setelah sesuatu yang mengganggu ',\n",
    "      '29. Sulit untuk antusias pada banyak hal ',\n",
    "      '32. Merasa tidak berharga ',\n",
    "      '33. Tidak dapat memaklumi hal apapun yang menghalangi anda untuk menyelesaikan hal yang sedang Anda lakukan ',\n",
    "      '35. Tidak ada harapan untuk masa depan ',\n",
    "      '39. Anda Sering Gemetar (bukan karena penyakit fisik)' ,\n",
    "      'Skor stress']"
   ]
  },
  {
   "cell_type": "code",
   "execution_count": 4,
   "metadata": {},
   "outputs": [
    {
     "data": {
      "text/plain": [
       "['Tidak ada atau tidak pernah',\n",
       " 'Sesuai dengan yang dialami sampai tingkat tertentu, atau kadang-kadang',\n",
       " 'sering',\n",
       " 'Sangat sesuai dengan yang dialami, atau hampir setiap saat ']"
      ]
     },
     "execution_count": 4,
     "metadata": {},
     "output_type": "execute_result"
    }
   ],
   "source": [
    "pilihan = {'Tidak ada atau tidak pernah' : 0 , 'Sesuai dengan yang dialami sampai tingkat tertentu, atau kadang-kadang' : 1,\n",
    "           'sering' : 2 , 'Sangat sesuai dengan yang dialami, atau hampir setiap saat ' : 3}\n",
    "list(pilihan.keys())"
   ]
  },
  {
   "cell_type": "code",
   "execution_count": 7,
   "metadata": {},
   "outputs": [
    {
     "data": {
      "text/plain": [
       "array([ 0,  1,  2,  3,  4,  5,  6,  7,  8,  9, 10, 11, 12, 13, 14, 15, 16,\n",
       "       17, 18, 19, 20, 21, 22, 23, 24, 25, 26, 27, 28, 29, 30, 31, 32, 33,\n",
       "       34, 35, 36, 37, 38, 39, 40, 41, 42, 43, 44, 45, 46, 47, 48])"
      ]
     },
     "execution_count": 7,
     "metadata": {},
     "output_type": "execute_result"
    }
   ],
   "source": [
    "np.arange(0,len(df))"
   ]
  },
  {
   "cell_type": "code",
   "execution_count": 4,
   "metadata": {},
   "outputs": [],
   "source": [
    "def KNN(data_in , data_lable , data , k):\n",
    "    distance = []\n",
    "    for i in range(k):\n",
    "        penampungan = [[]for _ in range(k)]\n",
    "        for j in range(len(lable)) : \n",
    "            penampungan[i].append(data[lable[j]][i])\n",
    "            if len(penampungan[i]) == len(data_in):\n",
    "                add = []\n",
    "                add.append(np.square(data_in[j] - penampungan[i][j]))\n",
    "                ecludean = np.sqrt(np.sum(add))\n",
    "                distance.append(ecludean)\n",
    "            else : \n",
    "                continue\n",
    "    return distance\n"
   ]
  },
  {
   "cell_type": "code",
   "execution_count": 5,
   "metadata": {},
   "outputs": [
    {
     "data": {
      "text/plain": [
       "[12.0, 16.0, 2.0, 18.0, 26.0]"
      ]
     },
     "execution_count": 5,
     "metadata": {},
     "output_type": "execute_result"
    }
   ],
   "source": [
    "KNN([1,2,3,2,1,2,3,1,4,5,1,4,5,1,30] , df['Keterangan'] , df , k = 5)"
   ]
  },
  {
   "cell_type": "code",
   "execution_count": 6,
   "metadata": {},
   "outputs": [
    {
     "name": "stdout",
     "output_type": "stream",
     "text": [
      "0\n",
      "[0.0, 4.0, 10.0, 6.0, 14.0]\n",
      "1\n",
      "[4.0, 0.0, 14.0, 2.0, 10.0]\n",
      "2\n",
      "[10.0, 14.0, 0.0, 16.0, 24.0]\n",
      "3\n",
      "[6.0, 2.0, 16.0, 0.0, 8.0]\n",
      "4\n",
      "[14.0, 10.0, 24.0, 8.0, 0.0]\n",
      "5\n",
      "[9.0, 5.0, 19.0, 3.0, 5.0]\n",
      "6\n",
      "[7.0, 3.0, 17.0, 1.0, 7.0]\n",
      "7\n",
      "[7.0, 3.0, 17.0, 1.0, 7.0]\n",
      "8\n",
      "[12.0, 8.0, 22.0, 6.0, 2.0]\n",
      "9\n",
      "[4.0, 0.0, 14.0, 2.0, 10.0]\n",
      "10\n",
      "[7.0, 3.0, 17.0, 1.0, 7.0]\n",
      "11\n",
      "[5.0, 1.0, 15.0, 1.0, 9.0]\n",
      "12\n",
      "[12.0, 8.0, 22.0, 6.0, 2.0]\n",
      "13\n",
      "[3.0, 1.0, 13.0, 3.0, 11.0]\n",
      "14\n",
      "[7.0, 3.0, 17.0, 1.0, 7.0]\n",
      "15\n",
      "[15.0, 11.0, 25.0, 9.0, 1.0]\n",
      "16\n",
      "[0.0, 4.0, 10.0, 6.0, 14.0]\n",
      "17\n",
      "[18.0, 14.0, 28.0, 12.0, 4.0]\n",
      "18\n",
      "[11.0, 7.0, 21.0, 5.0, 3.0]\n",
      "19\n",
      "[10.0, 6.0, 20.0, 4.0, 4.0]\n",
      "20\n",
      "[1.0, 3.0, 11.0, 5.0, 13.0]\n",
      "21\n",
      "[7.0, 11.0, 3.0, 13.0, 21.0]\n",
      "22\n",
      "[6.0, 2.0, 16.0, 0.0, 8.0]\n",
      "23\n",
      "[14.0, 10.0, 24.0, 8.0, 0.0]\n",
      "24\n",
      "[9.0, 5.0, 19.0, 3.0, 5.0]\n",
      "25\n",
      "[6.0, 10.0, 4.0, 12.0, 20.0]\n",
      "26\n",
      "[15.0, 11.0, 25.0, 9.0, 1.0]\n",
      "27\n",
      "[13.0, 9.0, 23.0, 7.0, 1.0]\n",
      "28\n",
      "[12.0, 16.0, 2.0, 18.0, 26.0]\n",
      "29\n",
      "[10.0, 14.0, 0.0, 16.0, 24.0]\n",
      "30\n",
      "[12.0, 8.0, 22.0, 6.0, 2.0]\n",
      "31\n",
      "[4.0, 0.0, 14.0, 2.0, 10.0]\n",
      "32\n",
      "[0.0, 4.0, 10.0, 6.0, 14.0]\n",
      "33\n",
      "[8.0, 4.0, 18.0, 2.0, 6.0]\n",
      "34\n",
      "[3.0, 7.0, 7.0, 9.0, 17.0]\n",
      "35\n",
      "[3.0, 1.0, 13.0, 3.0, 11.0]\n",
      "36\n",
      "[19.0, 23.0, 9.0, 25.0, 33.0]\n",
      "37\n",
      "[9.0, 13.0, 1.0, 15.0, 23.0]\n",
      "38\n",
      "[7.0, 3.0, 17.0, 1.0, 7.0]\n",
      "39\n",
      "[5.0, 1.0, 15.0, 1.0, 9.0]\n",
      "40\n",
      "[0.0, 4.0, 10.0, 6.0, 14.0]\n",
      "41\n",
      "[21.0, 25.0, 11.0, 27.0, 35.0]\n",
      "42\n",
      "[5.0, 9.0, 5.0, 11.0, 19.0]\n",
      "43\n",
      "[1.0, 3.0, 11.0, 5.0, 13.0]\n",
      "44\n",
      "[3.0, 7.0, 7.0, 9.0, 17.0]\n",
      "45\n",
      "[10.0, 6.0, 20.0, 4.0, 4.0]\n",
      "46\n",
      "[16.0, 12.0, 26.0, 10.0, 2.0]\n",
      "47\n",
      "[9.0, 5.0, 19.0, 3.0, 5.0]\n",
      "48\n",
      "[8.0, 4.0, 18.0, 2.0, 6.0]\n"
     ]
    }
   ],
   "source": [
    "\n",
    "for i in range(len(df)):\n",
    "    inputs = [df['1. Menjadi marah karena hal-hal kecil/sepele '][i],\n",
    "              df['6. Cenderung bereaksi berlebihan pada situasi '][i],\n",
    "              df['8. Kesulitan untuk relaksasi/bersantai '][i],\n",
    "              df['11. Mudah merasa kesal '][i],\n",
    "              df['12. Merasa banyak menghabiskan energi karena cemas '][i],\n",
    "              df['14. Tidak sabaran '][i],\n",
    "              df['18. Ketakutan tanpa alasan yang jelas '][i],\n",
    "              df['22. Tidak dapat menikmati hal-hal yang saya lakukan '][i],\n",
    "              df['27. Kesulitan untuk tenang setelah sesuatu yang mengganggu '][i],\n",
    "              df['29. Sulit untuk antusias pada banyak hal '][i],\n",
    "              df['32. Merasa tidak berharga '][i],\n",
    "              df['33. Tidak dapat memaklumi hal apapun yang menghalangi anda untuk menyelesaikan hal yang sedang Anda lakukan '][i],\n",
    "              df['35. Tidak ada harapan untuk masa depan '][i],\n",
    "              df['39. Anda Sering Gemetar (bukan karena penyakit fisik)'][i],\n",
    "              df['Skor stress'][i]]\n",
    "    print(i)\n",
    "    lasts = KNN(inputs , df['Keterangan'] , df , k = 5)\n",
    "    print(lasts)"
   ]
  }
 ],
 "metadata": {
  "kernelspec": {
   "display_name": "Python 3",
   "language": "python",
   "name": "python3"
  },
  "language_info": {
   "codemirror_mode": {
    "name": "ipython",
    "version": 3
   },
   "file_extension": ".py",
   "mimetype": "text/x-python",
   "name": "python",
   "nbconvert_exporter": "python",
   "pygments_lexer": "ipython3",
   "version": "3.10.11"
  }
 },
 "nbformat": 4,
 "nbformat_minor": 2
}
