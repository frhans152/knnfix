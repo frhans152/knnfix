{
 "cells": [
  {
   "cell_type": "code",
   "execution_count": 2,
   "metadata": {},
   "outputs": [
    {
     "name": "stdout",
     "output_type": "stream",
     "text": [
      "[-0.21  0.79  2.79  4.79]\n"
     ]
    }
   ],
   "source": [
    "import pandas as pd\n",
    "from standarisasi import Standarisasi"
   ]
  },
  {
   "cell_type": "markdown",
   "metadata": {},
   "source": [
    "## Standarisasi data "
   ]
  },
  {
   "cell_type": "code",
   "execution_count": 3,
   "metadata": {},
   "outputs": [
    {
     "data": {
      "text/html": [
       "<div>\n",
       "<style scoped>\n",
       "    .dataframe tbody tr th:only-of-type {\n",
       "        vertical-align: middle;\n",
       "    }\n",
       "\n",
       "    .dataframe tbody tr th {\n",
       "        vertical-align: top;\n",
       "    }\n",
       "\n",
       "    .dataframe thead th {\n",
       "        text-align: right;\n",
       "    }\n",
       "</style>\n",
       "<table border=\"1\" class=\"dataframe\">\n",
       "  <thead>\n",
       "    <tr style=\"text-align: right;\">\n",
       "      <th></th>\n",
       "      <th>Unnamed: 0</th>\n",
       "      <th>No. Resp</th>\n",
       "      <th>1. Menjadi marah karena hal-hal kecil/sepele</th>\n",
       "      <th>6. Cenderung bereaksi berlebihan pada situasi</th>\n",
       "      <th>8. Kesulitan untuk relaksasi/bersantai</th>\n",
       "      <th>11. Mudah merasa kesal</th>\n",
       "      <th>12. Merasa banyak menghabiskan energi karena cemas</th>\n",
       "      <th>14. Tidak sabaran</th>\n",
       "      <th>18. Ketakutan tanpa alasan yang jelas</th>\n",
       "      <th>22. Tidak dapat menikmati hal-hal yang saya lakukan</th>\n",
       "      <th>27. Kesulitan untuk tenang setelah sesuatu yang mengganggu</th>\n",
       "      <th>29. Sulit untuk antusias pada banyak hal</th>\n",
       "      <th>32. Merasa tidak berharga</th>\n",
       "      <th>33. Tidak dapat memaklumi hal apapun yang menghalangi anda untuk menyelesaikan hal yang sedang Anda lakukan</th>\n",
       "      <th>35. Tidak ada harapan untuk masa depan</th>\n",
       "      <th>39. Anda Sering Gemetar (bukan karena penyakit fisik)</th>\n",
       "      <th>Skor stress</th>\n",
       "      <th>Keterangan</th>\n",
       "    </tr>\n",
       "  </thead>\n",
       "  <tbody>\n",
       "    <tr>\n",
       "      <th>0</th>\n",
       "      <td>0</td>\n",
       "      <td>1</td>\n",
       "      <td>1</td>\n",
       "      <td>1</td>\n",
       "      <td>1</td>\n",
       "      <td>1</td>\n",
       "      <td>2</td>\n",
       "      <td>2</td>\n",
       "      <td>3</td>\n",
       "      <td>1</td>\n",
       "      <td>3</td>\n",
       "      <td>1</td>\n",
       "      <td>1</td>\n",
       "      <td>2</td>\n",
       "      <td>1</td>\n",
       "      <td>1</td>\n",
       "      <td>21</td>\n",
       "      <td>Sedang</td>\n",
       "    </tr>\n",
       "    <tr>\n",
       "      <th>1</th>\n",
       "      <td>1</td>\n",
       "      <td>2</td>\n",
       "      <td>1</td>\n",
       "      <td>0</td>\n",
       "      <td>1</td>\n",
       "      <td>0</td>\n",
       "      <td>1</td>\n",
       "      <td>0</td>\n",
       "      <td>0</td>\n",
       "      <td>0</td>\n",
       "      <td>0</td>\n",
       "      <td>1</td>\n",
       "      <td>1</td>\n",
       "      <td>0</td>\n",
       "      <td>0</td>\n",
       "      <td>0</td>\n",
       "      <td>5</td>\n",
       "      <td>Normal</td>\n",
       "    </tr>\n",
       "    <tr>\n",
       "      <th>2</th>\n",
       "      <td>2</td>\n",
       "      <td>3</td>\n",
       "      <td>3</td>\n",
       "      <td>3</td>\n",
       "      <td>3</td>\n",
       "      <td>3</td>\n",
       "      <td>3</td>\n",
       "      <td>3</td>\n",
       "      <td>3</td>\n",
       "      <td>3</td>\n",
       "      <td>3</td>\n",
       "      <td>3</td>\n",
       "      <td>0</td>\n",
       "      <td>2</td>\n",
       "      <td>0</td>\n",
       "      <td>3</td>\n",
       "      <td>35</td>\n",
       "      <td>Sangat Parah</td>\n",
       "    </tr>\n",
       "    <tr>\n",
       "      <th>3</th>\n",
       "      <td>3</td>\n",
       "      <td>4</td>\n",
       "      <td>1</td>\n",
       "      <td>1</td>\n",
       "      <td>2</td>\n",
       "      <td>1</td>\n",
       "      <td>2</td>\n",
       "      <td>2</td>\n",
       "      <td>0</td>\n",
       "      <td>0</td>\n",
       "      <td>1</td>\n",
       "      <td>1</td>\n",
       "      <td>1</td>\n",
       "      <td>2</td>\n",
       "      <td>0</td>\n",
       "      <td>0</td>\n",
       "      <td>14</td>\n",
       "      <td>Sedang</td>\n",
       "    </tr>\n",
       "    <tr>\n",
       "      <th>4</th>\n",
       "      <td>4</td>\n",
       "      <td>5</td>\n",
       "      <td>1</td>\n",
       "      <td>2</td>\n",
       "      <td>2</td>\n",
       "      <td>2</td>\n",
       "      <td>3</td>\n",
       "      <td>1</td>\n",
       "      <td>3</td>\n",
       "      <td>1</td>\n",
       "      <td>2</td>\n",
       "      <td>0</td>\n",
       "      <td>1</td>\n",
       "      <td>1</td>\n",
       "      <td>2</td>\n",
       "      <td>2</td>\n",
       "      <td>23</td>\n",
       "      <td>Sedang</td>\n",
       "    </tr>\n",
       "  </tbody>\n",
       "</table>\n",
       "</div>"
      ],
      "text/plain": [
       "   Unnamed: 0  No. Resp  1. Menjadi marah karena hal-hal kecil/sepele   \\\n",
       "0           0         1                                              1   \n",
       "1           1         2                                              1   \n",
       "2           2         3                                              3   \n",
       "3           3         4                                              1   \n",
       "4           4         5                                              1   \n",
       "\n",
       "   6. Cenderung bereaksi berlebihan pada situasi   \\\n",
       "0                                               1   \n",
       "1                                               0   \n",
       "2                                               3   \n",
       "3                                               1   \n",
       "4                                               2   \n",
       "\n",
       "   8. Kesulitan untuk relaksasi/bersantai   11. Mudah merasa kesal   \\\n",
       "0                                        1                        1   \n",
       "1                                        1                        0   \n",
       "2                                        3                        3   \n",
       "3                                        2                        1   \n",
       "4                                        2                        2   \n",
       "\n",
       "   12. Merasa banyak menghabiskan energi karena cemas   14. Tidak sabaran   \\\n",
       "0                                                  2                     2   \n",
       "1                                                  1                     0   \n",
       "2                                                  3                     3   \n",
       "3                                                  2                     2   \n",
       "4                                                  3                     1   \n",
       "\n",
       "   18. Ketakutan tanpa alasan yang jelas   \\\n",
       "0                                       3   \n",
       "1                                       0   \n",
       "2                                       3   \n",
       "3                                       0   \n",
       "4                                       3   \n",
       "\n",
       "   22. Tidak dapat menikmati hal-hal yang saya lakukan   \\\n",
       "0                                                  1      \n",
       "1                                                  0      \n",
       "2                                                  3      \n",
       "3                                                  0      \n",
       "4                                                  1      \n",
       "\n",
       "   27. Kesulitan untuk tenang setelah sesuatu yang mengganggu   \\\n",
       "0                                                  3             \n",
       "1                                                  0             \n",
       "2                                                  3             \n",
       "3                                                  1             \n",
       "4                                                  2             \n",
       "\n",
       "   29. Sulit untuk antusias pada banyak hal   32. Merasa tidak berharga   \\\n",
       "0                                          1                           1   \n",
       "1                                          1                           1   \n",
       "2                                          3                           0   \n",
       "3                                          1                           1   \n",
       "4                                          0                           1   \n",
       "\n",
       "   33. Tidak dapat memaklumi hal apapun yang menghalangi anda untuk menyelesaikan hal yang sedang Anda lakukan   \\\n",
       "0                                                  2                                                              \n",
       "1                                                  0                                                              \n",
       "2                                                  2                                                              \n",
       "3                                                  2                                                              \n",
       "4                                                  1                                                              \n",
       "\n",
       "   35. Tidak ada harapan untuk masa depan   \\\n",
       "0                                        1   \n",
       "1                                        0   \n",
       "2                                        0   \n",
       "3                                        0   \n",
       "4                                        2   \n",
       "\n",
       "   39. Anda Sering Gemetar (bukan karena penyakit fisik)  Skor stress  \\\n",
       "0                                                  1               21   \n",
       "1                                                  0                5   \n",
       "2                                                  3               35   \n",
       "3                                                  0               14   \n",
       "4                                                  2               23   \n",
       "\n",
       "     Keterangan  \n",
       "0        Sedang  \n",
       "1        Normal  \n",
       "2  Sangat Parah  \n",
       "3        Sedang  \n",
       "4        Sedang  "
      ]
     },
     "execution_count": 3,
     "metadata": {},
     "output_type": "execute_result"
    }
   ],
   "source": [
    "df = pd.read_csv('stress_data.csv')\n",
    "df.head()"
   ]
  },
  {
   "cell_type": "code",
   "execution_count": 4,
   "metadata": {},
   "outputs": [
    {
     "data": {
      "text/plain": [
       "0           Sedang\n",
       "1           Normal\n",
       "2     Sangat Parah\n",
       "3           Sedang\n",
       "4           Sedang\n",
       "          ...     \n",
       "95          Sedang\n",
       "96          Normal\n",
       "97          Normal\n",
       "98          Normal\n",
       "99          Ringan\n",
       "Name: Keterangan, Length: 100, dtype: object"
      ]
     },
     "execution_count": 4,
     "metadata": {},
     "output_type": "execute_result"
    }
   ],
   "source": [
    "df['Keterangan']"
   ]
  },
  {
   "cell_type": "code",
   "execution_count": 5,
   "metadata": {},
   "outputs": [
    {
     "name": "stdout",
     "output_type": "stream",
     "text": [
      "40\n",
      "38.3\n"
     ]
    }
   ],
   "source": [
    "data_standrt = list(df['Skor stress'])\n",
    "datas = 40\n",
    "data_standrt.append(datas)\n",
    "St = Standarisasi(data_standrt)\n",
    "print(data_standrt[len(data_standrt)-1])\n",
    "print(St.Enggine()[len(data_standrt)-1])\n",
    "    "
   ]
  },
  {
   "cell_type": "code",
   "execution_count": 6,
   "metadata": {},
   "outputs": [
    {
     "data": {
      "text/plain": [
       "'Sedang'"
      ]
     },
     "execution_count": 6,
     "metadata": {},
     "output_type": "execute_result"
    }
   ],
   "source": [
    "df['Keterangan'][0]"
   ]
  }
 ],
 "metadata": {
  "kernelspec": {
   "display_name": "Python 3",
   "language": "python",
   "name": "python3"
  },
  "language_info": {
   "codemirror_mode": {
    "name": "ipython",
    "version": 3
   },
   "file_extension": ".py",
   "mimetype": "text/x-python",
   "name": "python",
   "nbconvert_exporter": "python",
   "pygments_lexer": "ipython3",
   "version": "3.10.11"
  }
 },
 "nbformat": 4,
 "nbformat_minor": 2
}
